{
 "cells": [
  {
   "cell_type": "code",
   "execution_count": 1,
   "metadata": {},
   "outputs": [
    {
     "name": "stdout",
     "output_type": "stream",
     "text": [
      "{'name': 'ujjwalsinha', 'age': '20', 'tag': 'hello world'}\n"
     ]
    }
   ],
   "source": [
    "student={\"name\":\"ujjwalsinha\", \"age\":\"20\", \"tag\":\"hello world\"}\n",
    "print(student)"
   ]
  },
  {
   "cell_type": "code",
   "execution_count": 5,
   "metadata": {},
   "outputs": [
    {
     "name": "stdout",
     "output_type": "stream",
     "text": [
      "ujjwalsinha\n",
      "20\n",
      "hello world\n",
      "name\n",
      "age\n",
      "tag\n"
     ]
    }
   ],
   "source": [
    "student={\"name\":\"ujjwalsinha\", \"age\":\"20\", \"tag\":\"hello world\"}\n",
    "for value in student.values():\n",
    "    print(value)\n",
    "for keys in student.keys():\n",
    "    print(keys)\n",
    "    "
   ]
  },
  {
   "cell_type": "code",
   "execution_count": 8,
   "metadata": {},
   "outputs": [
    {
     "name": "stdout",
     "output_type": "stream",
     "text": [
      "name:ujjwalsinha\n",
      "age:20\n",
      "tag:hello world\n"
     ]
    }
   ],
   "source": [
    "student={\"name\":\"ujjwalsinha\", \"age\":\"20\", \"tag\":\"hello world\"}\n",
    "for keys,value in student.items():\n",
    "    print(f\"{keys}:{value}\")"
   ]
  },
  {
   "cell_type": "code",
   "execution_count": null,
   "metadata": {},
   "outputs": [],
   "source": []
  },
  {
   "cell_type": "code",
   "execution_count": null,
   "metadata": {},
   "outputs": [],
   "source": []
  },
  {
   "cell_type": "code",
   "execution_count": null,
   "metadata": {},
   "outputs": [],
   "source": []
  },
  {
   "cell_type": "code",
   "execution_count": null,
   "metadata": {},
   "outputs": [],
   "source": []
  }
 ],
 "metadata": {
  "kernelspec": {
   "display_name": "venv",
   "language": "python",
   "name": "python3"
  },
  "language_info": {
   "codemirror_mode": {
    "name": "ipython",
    "version": 3
   },
   "file_extension": ".py",
   "mimetype": "text/x-python",
   "name": "python",
   "nbconvert_exporter": "python",
   "pygments_lexer": "ipython3",
   "version": "3.12.0"
  }
 },
 "nbformat": 4,
 "nbformat_minor": 2
}
